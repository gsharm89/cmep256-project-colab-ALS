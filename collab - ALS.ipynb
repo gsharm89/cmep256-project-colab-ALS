{
 "cells": [
  {
   "cell_type": "code",
   "execution_count": 1,
   "metadata": {},
   "outputs": [],
   "source": [
    "data = '/Users/gauravsharma/CMPE256/Project/yelp_dataset'\n",
    "from pyspark import SparkConf, SparkContext, SQLContext\n",
    "from pyspark.ml.feature import *\n",
    "from pyspark.sql import *\n",
    "from pyspark.sql.functions import desc\n",
    "from pyspark.ml.evaluation import RegressionEvaluator\n",
    "from pyspark.ml.recommendation import ALS"
   ]
  },
  {
   "cell_type": "code",
   "execution_count": 2,
   "metadata": {},
   "outputs": [],
   "source": [
    "conf = SparkConf()\n",
    "sc = SparkContext(conf=conf)\n",
    "sqlCon = SQLContext(sc)"
   ]
  },
  {
   "cell_type": "code",
   "execution_count": 3,
   "metadata": {},
   "outputs": [
    {
     "data": {
      "text/plain": [
       "192609"
      ]
     },
     "execution_count": 3,
     "metadata": {},
     "output_type": "execute_result"
    }
   ],
   "source": [
    "business = sqlCon.read.json(data + \"/business.json\")\n",
    "business.count()"
   ]
  },
  {
   "cell_type": "code",
   "execution_count": 4,
   "metadata": {},
   "outputs": [
    {
     "name": "stdout",
     "output_type": "stream",
     "text": [
      "+---------------+-----+\n",
      "|           city|count|\n",
      "+---------------+-----+\n",
      "|      Las Vegas|29370|\n",
      "|        Toronto|18906|\n",
      "|        Phoenix|18766|\n",
      "|      Charlotte| 9509|\n",
      "|     Scottsdale| 8837|\n",
      "|        Calgary| 7736|\n",
      "|     Pittsburgh| 7017|\n",
      "|       Montréal| 6449|\n",
      "|           Mesa| 6080|\n",
      "|      Henderson| 4892|\n",
      "|          Tempe| 4550|\n",
      "|       Chandler| 4309|\n",
      "|      Cleveland| 3605|\n",
      "|       Glendale| 3543|\n",
      "|        Madison| 3494|\n",
      "|        Gilbert| 3462|\n",
      "|    Mississauga| 3112|\n",
      "|         Peoria| 1919|\n",
      "|        Markham| 1766|\n",
      "|North Las Vegas| 1548|\n",
      "+---------------+-----+\n",
      "only showing top 20 rows\n",
      "\n"
     ]
    }
   ],
   "source": [
    "#view schema for the businesses\n",
    "#business.printSchema()\n",
    "business.groupBy(\"city\").count().sort(desc(\"count\")).show()"
   ]
  },
  {
   "cell_type": "code",
   "execution_count": 5,
   "metadata": {},
   "outputs": [],
   "source": [
    "#only going to keep business address, business_id, categories, name, stars, city, state\n",
    "#filtering out only Phoenix businesses\n",
    "business_restaurants = business.select('address', 'business_id', 'categories', 'city', 'stars', 'state').filter(business.categories.contains(\"Restaurants\")).filter(business.city == 'Phoenix')\n"
   ]
  },
  {
   "cell_type": "code",
   "execution_count": 6,
   "metadata": {},
   "outputs": [
    {
     "name": "stdout",
     "output_type": "stream",
     "text": [
      "# of businesses in Phoenix: 3999\n"
     ]
    }
   ],
   "source": [
    "print('# of businesses in Phoenix:', business_restaurants.count())"
   ]
  },
  {
   "cell_type": "code",
   "execution_count": 7,
   "metadata": {},
   "outputs": [
    {
     "name": "stdout",
     "output_type": "stream",
     "text": [
      "root\n",
      " |-- business_id: string (nullable = true)\n",
      " |-- cool: long (nullable = true)\n",
      " |-- date: string (nullable = true)\n",
      " |-- funny: long (nullable = true)\n",
      " |-- review_id: string (nullable = true)\n",
      " |-- stars: double (nullable = true)\n",
      " |-- text: string (nullable = true)\n",
      " |-- useful: long (nullable = true)\n",
      " |-- user_id: string (nullable = true)\n",
      "\n"
     ]
    }
   ],
   "source": [
    "read_reviews = sqlCon.read.json(data + \"/review.json\")\n",
    "read_reviews.printSchema()"
   ]
  },
  {
   "cell_type": "code",
   "execution_count": 8,
   "metadata": {},
   "outputs": [
    {
     "name": "stdout",
     "output_type": "stream",
     "text": [
      "root\n",
      " |-- user_id: string (nullable = true)\n",
      " |-- business_id: string (nullable = true)\n",
      " |-- stars: double (nullable = true)\n",
      "\n",
      "+--------------------+--------------------+-----+\n",
      "|             user_id|         business_id|stars|\n",
      "+--------------------+--------------------+-----+\n",
      "|hG7b0MtEbXx5QzbzE...|ujmEBvifdJM6h6RLv...|  1.0|\n",
      "|yXQM5uF2jS6es16SJ...|NZnhc2sEQy3RmzKTZ...|  5.0|\n",
      "|n6-Gk65cPZL6Uz8qR...|WTqjgwHlXbSFevF32...|  5.0|\n",
      "|dacAIZ6fTM6mqwW5u...|ikCg8xy5JIg_NGPx-...|  5.0|\n",
      "|ssoyf2_x0EQMed6fg...|b1b1eb3uo-w561D0Z...|  1.0|\n",
      "|w31MKYsNFMrjhWxxA...|eU_713ec6fTGNO4Be...|  4.0|\n",
      "|jlu4CztcSxrKx56ba...|3fw2X5bZYeW9xCz_z...|  3.0|\n",
      "|d6xvYpyzcfbF_AZ8v...|zvO-PJCpNk4fgAVUn...|  1.0|\n",
      "|sG_h0dIzTKWa3Q6fm...|b2jN2mm9Wf3RcrZCg...|  2.0|\n",
      "|nMeCE5-xsdleyxYuN...|oxwGyA17NL6c5t1Et...|  3.0|\n",
      "|FIk4lQQu1eTe2EpzQ...|8mIrX_LrOnAqWsB5J...|  4.0|\n",
      "|-mA3-1mN4JIEkqOtd...|mRUVMJkUGxrByzMQ2...|  1.0|\n",
      "|GYNnVehQeXjty0xH7...|FxLfqxdYPA6Z85PFK...|  4.0|\n",
      "|bAhqAPoWaZYcyYi7b...|LUN6swQYa4xJKaM_U...|  4.0|\n",
      "|TpyOT5E16YASd7EWj...|AakkkTuGZA2KBodKi...|  1.0|\n",
      "|NJlxGtouq06hhC7sS...|YvrylyuWgbP90RgMq...|  5.0|\n",
      "|86J5DwcFk4f4In1Vx...|NyLYY8q1-H3hfsTwu...|  4.0|\n",
      "|JSrP-dUmLlwZiI7Dp...|cHdJXLlKNWixBXpDw...|  3.0|\n",
      "|6Fz_nus_OG4gar721...|6lj2BJ4tJeu7db5as...|  5.0|\n",
      "|_N7Ndn29bpll_961o...|y-Iw6dZflNix4BdwI...|  3.0|\n",
      "+--------------------+--------------------+-----+\n",
      "only showing top 20 rows\n",
      "\n"
     ]
    }
   ],
   "source": [
    "reviews = read_reviews.select(\"user_id\", \"business_id\", \"stars\")\n",
    "reviews.printSchema()\n",
    "reviews.show()"
   ]
  },
  {
   "cell_type": "code",
   "execution_count": 9,
   "metadata": {},
   "outputs": [
    {
     "data": {
      "text/plain": [
       "6685900"
      ]
     },
     "execution_count": 9,
     "metadata": {},
     "output_type": "execute_result"
    }
   ],
   "source": [
    "reviews.count()"
   ]
  },
  {
   "cell_type": "code",
   "execution_count": 10,
   "metadata": {},
   "outputs": [
    {
     "data": {
      "text/plain": [
       "427491"
      ]
     },
     "execution_count": 10,
     "metadata": {},
     "output_type": "execute_result"
    }
   ],
   "source": [
    "#Phoenix_only_reviews = reviews.join(business_restaurants, reviews.business_id == business_restaurants.business_id, \"outer\")\n",
    "Phoenix_only_reviews = reviews.join(business_restaurants, reviews.business_id == business_restaurants.business_id).select(reviews[\"*\"])\n",
    "Phoenix_only_reviews.count()"
   ]
  },
  {
   "cell_type": "code",
   "execution_count": 11,
   "metadata": {},
   "outputs": [
    {
     "name": "stdout",
     "output_type": "stream",
     "text": [
      "root\n",
      " |-- user_id: string (nullable = true)\n",
      " |-- business_id: string (nullable = true)\n",
      " |-- stars: double (nullable = true)\n",
      "\n"
     ]
    },
    {
     "data": {
      "text/plain": [
       "pyspark.sql.dataframe.DataFrame"
      ]
     },
     "execution_count": 11,
     "metadata": {},
     "output_type": "execute_result"
    }
   ],
   "source": [
    "Phoenix_only_reviews.printSchema()\n",
    "type(Phoenix_only_reviews)"
   ]
  },
  {
   "cell_type": "code",
   "execution_count": 12,
   "metadata": {},
   "outputs": [],
   "source": [
    "from pyspark.ml.feature import OneHotEncoder, StringIndexer\n",
    "from pyspark.ml import Pipeline\n",
    "indexers = [StringIndexer(inputCol=column, outputCol=column+\"_index\").fit(Phoenix_only_reviews) for column in list(set(Phoenix_only_reviews.columns)-set(['stars'])) ]\n",
    "\n",
    "pipeline = Pipeline(stages=indexers)\n",
    "data = pipeline.fit(Phoenix_only_reviews).transform(Phoenix_only_reviews)"
   ]
  },
  {
   "cell_type": "code",
   "execution_count": 13,
   "metadata": {},
   "outputs": [
    {
     "name": "stdout",
     "output_type": "stream",
     "text": [
      "root\n",
      " |-- user_id: string (nullable = true)\n",
      " |-- business_id: string (nullable = true)\n",
      " |-- stars: double (nullable = true)\n",
      " |-- business_id_index: double (nullable = false)\n",
      " |-- user_id_index: double (nullable = false)\n",
      "\n"
     ]
    }
   ],
   "source": [
    "data.printSchema()"
   ]
  },
  {
   "cell_type": "code",
   "execution_count": 14,
   "metadata": {},
   "outputs": [],
   "source": [
    "(training, test) = data.randomSplit([0.8, 0.2])"
   ]
  },
  {
   "cell_type": "code",
   "execution_count": 15,
   "metadata": {},
   "outputs": [],
   "source": [
    "als = ALS(maxIter=10,regParam=0.09,rank=10,userCol=\"user_id_index\",itemCol=\"business_id_index\",ratingCol=\"stars\",coldStartStrategy=\"drop\",nonnegative=True)\n",
    "model = als.fit(training)   "
   ]
  },
  {
   "cell_type": "code",
   "execution_count": 16,
   "metadata": {},
   "outputs": [
    {
     "name": "stdout",
     "output_type": "stream",
     "text": [
      "RMSE=1.557922916929912\n"
     ]
    }
   ],
   "source": [
    "evaluator=RegressionEvaluator(metricName=\"rmse\",labelCol=\"stars\",predictionCol=\"prediction\")\n",
    "predictions=model.transform(test)\n",
    "rmse=evaluator.evaluate(predictions)\n",
    "print(\"RMSE=\"+str(rmse))"
   ]
  },
  {
   "cell_type": "code",
   "execution_count": 17,
   "metadata": {},
   "outputs": [],
   "source": [
    "als = ALS(maxIter=15,regParam=0.09,rank=15,userCol=\"user_id_index\",itemCol=\"business_id_index\",ratingCol=\"stars\",coldStartStrategy=\"drop\",nonnegative=True)\n",
    "model = als.fit(training)"
   ]
  },
  {
   "cell_type": "code",
   "execution_count": 18,
   "metadata": {},
   "outputs": [
    {
     "name": "stdout",
     "output_type": "stream",
     "text": [
      "RMSE=1.5233345840638375\n"
     ]
    }
   ],
   "source": [
    "evaluator=RegressionEvaluator(metricName=\"rmse\",labelCol=\"stars\",predictionCol=\"prediction\")\n",
    "predictions=model.transform(test)\n",
    "rmse=evaluator.evaluate(predictions)\n",
    "print(\"RMSE=\"+str(rmse))"
   ]
  },
  {
   "cell_type": "code",
   "execution_count": 15,
   "metadata": {},
   "outputs": [],
   "source": [
    "als = ALS(maxIter=20,regParam=0.09,rank=20,userCol=\"user_id_index\",itemCol=\"business_id_index\",ratingCol=\"stars\",coldStartStrategy=\"drop\",nonnegative=True)\n",
    "model = als.fit(training)"
   ]
  },
  {
   "cell_type": "code",
   "execution_count": 16,
   "metadata": {},
   "outputs": [
    {
     "name": "stdout",
     "output_type": "stream",
     "text": [
      "RMSE=1.4962786386107436\n",
      "+--------------------+--------------------+-----+-----------------+-------------+----------+\n",
      "|             user_id|         business_id|stars|business_id_index|user_id_index|prediction|\n",
      "+--------------------+--------------------+-----+-----------------+-------------+----------+\n",
      "|gmgQ4HnzCKeZpAa_g...|LtNgP4FqXp5nMFOHE...|  2.0|            148.0|       5300.0| 3.3272412|\n",
      "|E-VrONfypxIWIf_jx...|LtNgP4FqXp5nMFOHE...|  2.0|            148.0|      12006.0| 3.7092657|\n",
      "|jt2BvQSjk3fDp8qDx...|LtNgP4FqXp5nMFOHE...|  5.0|            148.0|      19729.0| 3.2537029|\n",
      "|QURuwUr6U4nzpBneb...|LtNgP4FqXp5nMFOHE...|  5.0|            148.0|      39420.0| 3.8487353|\n",
      "|lCQ-2TSe8E9rxZxd6...|LtNgP4FqXp5nMFOHE...|  5.0|            148.0|      10506.0| 3.0340836|\n",
      "|ZbTLIxe1i2qsBJJJR...|LtNgP4FqXp5nMFOHE...|  5.0|            148.0|      17983.0| 4.1562223|\n",
      "|-3UR6uwjT2kRjbQv1...|LtNgP4FqXp5nMFOHE...|  4.0|            148.0|       9387.0| 3.9020534|\n",
      "|2bmNcJA9EQFSu0Tmv...|LtNgP4FqXp5nMFOHE...|  4.0|            148.0|      10544.0|  4.409494|\n",
      "|7M1zIE6OzpySDlqLU...|LtNgP4FqXp5nMFOHE...|  5.0|            148.0|        626.0|  4.759662|\n",
      "|AS0NLXtgAw_uyzRhj...|LtNgP4FqXp5nMFOHE...|  5.0|            148.0|      12192.0|  2.832916|\n",
      "|46aM0kni0GXjS0zx0...|LtNgP4FqXp5nMFOHE...|  5.0|            148.0|        253.0| 4.4044986|\n",
      "|7emHfjpik4QaqoVrr...|LtNgP4FqXp5nMFOHE...|  4.0|            148.0|      38147.0| 1.9391371|\n",
      "|5bhqhwynLQOXYkFn_...|LtNgP4FqXp5nMFOHE...|  4.0|            148.0|      24137.0|  2.603486|\n",
      "|CjrbN9K4PgrhFdSMg...|LtNgP4FqXp5nMFOHE...|  2.0|            148.0|      13431.0| 3.2412589|\n",
      "|8ASUoWzYNHk1C4pzu...|LtNgP4FqXp5nMFOHE...|  5.0|            148.0|      11461.0| 4.6837397|\n",
      "|zR2zm6CUDLb0LdXKp...|LtNgP4FqXp5nMFOHE...|  5.0|            148.0|      19569.0|  4.624162|\n",
      "|rR7iR07A2pIlcj4wy...|LtNgP4FqXp5nMFOHE...|  4.0|            148.0|      16928.0| 3.6459749|\n",
      "|HLbZWETKCd74U-lxg...|LtNgP4FqXp5nMFOHE...|  5.0|            148.0|       8005.0| 4.0053296|\n",
      "|_NU6Ua5ifHdVKsXn6...|LtNgP4FqXp5nMFOHE...|  3.0|            148.0|      10342.0| 1.7869313|\n",
      "|daKP_SVYUZx2NJNjK...|LtNgP4FqXp5nMFOHE...|  5.0|            148.0|      56686.0|0.52558017|\n",
      "+--------------------+--------------------+-----+-----------------+-------------+----------+\n",
      "only showing top 20 rows\n",
      "\n"
     ]
    }
   ],
   "source": [
    "evaluator=RegressionEvaluator(metricName=\"rmse\",labelCol=\"stars\",predictionCol=\"prediction\")\n",
    "predictions=model.transform(test)\n",
    "rmse=evaluator.evaluate(predictions)\n",
    "print(\"RMSE=\"+str(rmse))\n",
    "predictions.show()"
   ]
  },
  {
   "cell_type": "code",
   "execution_count": null,
   "metadata": {},
   "outputs": [],
   "source": []
  }
 ],
 "metadata": {
  "kernelspec": {
   "display_name": "Python 3",
   "language": "python",
   "name": "python3"
  },
  "language_info": {
   "codemirror_mode": {
    "name": "ipython",
    "version": 3
   },
   "file_extension": ".py",
   "mimetype": "text/x-python",
   "name": "python",
   "nbconvert_exporter": "python",
   "pygments_lexer": "ipython3",
   "version": "3.6.5"
  }
 },
 "nbformat": 4,
 "nbformat_minor": 2
}
